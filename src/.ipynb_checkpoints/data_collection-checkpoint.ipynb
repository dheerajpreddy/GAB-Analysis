{
 "cells": [
  {
   "cell_type": "markdown",
   "metadata": {},
   "source": [
    "# Data Collection"
   ]
  },
  {
   "cell_type": "markdown",
   "metadata": {},
   "source": [
    "### Importing required packages"
   ]
  },
  {
   "cell_type": "code",
   "execution_count": 7,
   "metadata": {},
   "outputs": [],
   "source": [
    "import requests\n",
    "import json"
   ]
  },
  {
   "cell_type": "markdown",
   "metadata": {},
   "source": [
    "### Defining class to scrape data"
   ]
  },
  {
   "cell_type": "code",
   "execution_count": 6,
   "metadata": {},
   "outputs": [],
   "source": [
    "class Gab:\n",
    "    headers = {'user-agent':'Mozilla/5.0 (X11; Ubuntu; Linux x86_64; rv:62.0) Gecko/20100101 Firefox/62.0'}\n",
    "    session = {}\n",
    "\n",
    "    def __init__(self, username, password):\n",
    "        f = requests.get('https://gab.ai/auth/login', headers=self.headers)\n",
    "        self.session = f.cookies\n",
    "        token = f.text.split('\"_token\" value=\"')[1].split('\"')[0]\n",
    "        self.session = requests.post('https://gab.ai/auth/login', headers=self.headers, cookies=self.session, data={'_token':token, 'password':password, 'username':username}).cookies\n",
    "\n",
    "    def getnotifications(self, type='null'):\n",
    "        return json.loads(requests.get('https://gab.ai/api/notifications?type=' + type, headers=self.headers, cookies=self.session).text)\n",
    "\n",
    "    def search(self, query, user=False, sort='date'):\n",
    "        if user:\n",
    "            return json.loads(requests.get('https://gab.ai/api/search/users?q=' + query, headers=self.headers, cookies=self.session).text)\n",
    "        else:\n",
    "            return json.loads(requests.get('https://gab.ai/api/search?sort=' + sort + '&q=' + query, headers=self.headers, cookies=self.session).text)\n",
    "\n",
    "    def getme(self):\n",
    "        return json.loads(requests.get('https://gab.ai/home/', headers=self.headers, cookies=self.session).text.split('window.authUser = ')[1].split(';')[0])\n",
    "\n",
    "    def getuser(self, username):\n",
    "        return json.loads(requests.get('https://gab.ai/users/' + username, headers=self.headers, cookies=self.session).text)\n",
    "\n",
    "    def gettopics(self):\n",
    "        return json.loads(requests.get('https://gab.ai/api/topics', headers=self.headers, cookies=self.session).text)\n",
    "\n",
    "    def gettimeline(self):\n",
    "        return json.loads(requests.get('https://gab.ai/feed', headers=self.headers, cookies=self.session).text)\n",
    "\n",
    "    def getpost(self, postid):\n",
    "        return json.loads(requests.get('https://gab.ai/posts/' + str(postid), headers=self.headers, cookies=self.session).text)\n",
    "\n",
    "    def getfollowers(self, user):\n",
    "        return json.loads(requests.get('https://gab.ai/users/' + user + '/followers', headers=self.headers, cookies=self.session).text)\n",
    "\n",
    "    def getfollowing(self, user):\n",
    "        return json.loads(requests.get('https://gab.ai/users/' + user + '/following', headers=self.headers, cookies=self.session).text)\n",
    "\n",
    "    def getusertimeline(self, user):\n",
    "        return json.loads(requests.get('https://gab.ai/feed/' + user, headers=self.headers, cookies=self.session).text)\n",
    "\n",
    "    def gettrending(self):\n",
    "        # to be completed\n",
    "        pass"
   ]
  },
  {
   "cell_type": "markdown",
   "metadata": {},
   "source": [
    "### Logging in with my username and password"
   ]
  },
  {
   "cell_type": "code",
   "execution_count": 8,
   "metadata": {},
   "outputs": [],
   "source": [
    "gab = Gab('dheerajpreddy', 'Test@123')"
   ]
  },
  {
   "cell_type": "markdown",
   "metadata": {},
   "source": [
    "### Running BFS to get a list of all users"
   ]
  },
  {
   "cell_type": "code",
   "execution_count": null,
   "metadata": {},
   "outputs": [],
   "source": [
    "# Run BFS, get user list, then get all tweets"
   ]
  }
 ],
 "metadata": {
  "kernelspec": {
   "display_name": "Python 3",
   "language": "python",
   "name": "python3"
  },
  "language_info": {
   "codemirror_mode": {
    "name": "ipython",
    "version": 3
   },
   "file_extension": ".py",
   "mimetype": "text/x-python",
   "name": "python",
   "nbconvert_exporter": "python",
   "pygments_lexer": "ipython3",
   "version": "3.7.0"
  }
 },
 "nbformat": 4,
 "nbformat_minor": 2
}
